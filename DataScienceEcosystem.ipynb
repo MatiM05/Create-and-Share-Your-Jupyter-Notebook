{
 "cells": [
  {
   "cell_type": "markdown",
   "id": "8cd3edf0-2cae-43c3-a1dc-f761c9d174e5",
   "metadata": {},
   "source": [
    "# Data Science Tools and Ecosystem"
   ]
  },
  {
   "cell_type": "markdown",
   "id": "2c6759ba-ee87-482e-9008-ae525654ff28",
   "metadata": {},
   "source": [
    "## In this notebook, Data Science Tools and Ecosystem are summarized.\n"
   ]
  },
  {
   "cell_type": "markdown",
   "id": "e2599913-5767-4421-a357-c89b3a6136ed",
   "metadata": {},
   "source": [
    "**Objectives:**\n",
    "\n",
    "- List popular open source tools for Data Science.\n",
    "-  Create Markdown with different data formats.\n",
    "-   Create code cells with arithmetic expressions."
   ]
  },
  {
   "cell_type": "markdown",
   "id": "0280e461-d260-4fc4-b926-2178b70e654c",
   "metadata": {},
   "source": [
    "### Some of the popular languages that Data Scientists use are:\n",
    "\n",
    "1. Python\n",
    "2. R\n",
    "3. SQL"
   ]
  },
  {
   "cell_type": "markdown",
   "id": "88d4fa1e-f985-4d64-a961-cf218ef50282",
   "metadata": {},
   "source": [
    "### Some of the commonly used libraries used by Data Scientists include::\n",
    "\n",
    "1. Pandas\n",
    "2. NumPy\n",
    "3. Matplotlib"
   ]
  },
  {
   "cell_type": "markdown",
   "id": "2bfc3307-33a5-4f34-8737-a7af4a6b3fd5",
   "metadata": {},
   "source": [
    "\n",
    "\n",
    "| Data Science Tools |\n",
    "|-------------------------------|\n",
    "| Jupyter Notebook              |\n",
    "| RStudio                        |\n",
    "| Apache Zeppelin               |"
   ]
  },
  {
   "cell_type": "markdown",
   "id": "bf70fea9-7607-4aca-9aca-8ce8eb5e4d7c",
   "metadata": {},
   "source": [
    "### Below are a few examples of evaluating arithmetic expressions in Python:"
   ]
  },
  {
   "cell_type": "code",
   "execution_count": 16,
   "id": "85b6948d-4d11-483e-9bec-5cef7199a64f",
   "metadata": {},
   "outputs": [
    {
     "data": {
      "text/plain": [
       "7"
      ]
     },
     "execution_count": 16,
     "metadata": {},
     "output_type": "execute_result"
    }
   ],
   "source": [
    "2+5"
   ]
  },
  {
   "cell_type": "code",
   "execution_count": 18,
   "id": "6e37a5c5-0cb3-4367-b7c2-9b8cc47f9893",
   "metadata": {},
   "outputs": [
    {
     "data": {
      "text/plain": [
       "285"
      ]
     },
     "execution_count": 18,
     "metadata": {},
     "output_type": "execute_result"
    }
   ],
   "source": [
    "95*3"
   ]
  },
  {
   "cell_type": "code",
   "execution_count": 20,
   "id": "af9c275a-afa6-4025-a196-d1824b4c04ac",
   "metadata": {},
   "outputs": [
    {
     "data": {
      "text/plain": [
       "2.6666666666666665"
      ]
     },
     "execution_count": 20,
     "metadata": {},
     "output_type": "execute_result"
    }
   ],
   "source": [
    "8/3"
   ]
  },
  {
   "cell_type": "code",
   "execution_count": 24,
   "id": "944c26f1-f448-41b7-b467-263fc2192520",
   "metadata": {},
   "outputs": [
    {
     "data": {
      "text/plain": [
       "17"
      ]
     },
     "execution_count": 24,
     "metadata": {},
     "output_type": "execute_result"
    }
   ],
   "source": [
    "# This a simple arithmetic expression to mutiply then add integers\n",
    "(3*4)+5"
   ]
  },
  {
   "cell_type": "code",
   "execution_count": 32,
   "id": "c6436ef3-d21f-4f48-af70-0e3a4e9730ed",
   "metadata": {},
   "outputs": [
    {
     "name": "stdout",
     "output_type": "stream",
     "text": [
      "200 minutes are 3.3333333333333335 hours\n"
     ]
    }
   ],
   "source": [
    "# This will convert 200 minutes to hours by dividing by 60\n",
    "\n",
    "# Minutes:\n",
    "Minutes = 200\n",
    "\n",
    "# Hours Calculation\n",
    "print(Minutes, \"minutes are\", Minutes / 60, \"hours\")"
   ]
  },
  {
   "cell_type": "markdown",
   "id": "cdb0d454-4a3c-494a-9566-8aa6546d2ddd",
   "metadata": {},
   "source": [
    "## Author:\n",
    "\n",
    "Matias Javier Mayer\n"
   ]
  }
 ],
 "metadata": {
  "kernelspec": {
   "display_name": "Python [conda env:base] *",
   "language": "python",
   "name": "conda-base-py"
  },
  "language_info": {
   "codemirror_mode": {
    "name": "ipython",
    "version": 3
   },
   "file_extension": ".py",
   "mimetype": "text/x-python",
   "name": "python",
   "nbconvert_exporter": "python",
   "pygments_lexer": "ipython3",
   "version": "3.12.7"
  }
 },
 "nbformat": 4,
 "nbformat_minor": 5
}
